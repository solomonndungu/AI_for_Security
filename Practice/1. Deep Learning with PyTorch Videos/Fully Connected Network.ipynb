{
 "cells": [
  {
   "cell_type": "code",
   "execution_count": 9,
   "metadata": {},
   "outputs": [
    {
     "name": "stdout",
     "output_type": "stream",
     "text": [
      "<class 'torch.Tensor'>\n",
      "torch.Size([64, 1, 28, 28])\n",
      "torch.Size([64])\n"
     ]
    }
   ],
   "source": [
    "# Import necessary packages\n",
    "\n",
    "%matplotlib inline\n",
    "%config InlineBackend.figure_format = 'retina'\n",
    "\n",
    "import numpy as np\n",
    "import torch\n",
    "\n",
    "import helper\n",
    "\n",
    "import matplotlib.pyplot as plt\n",
    "\n",
    "### Run this cell\n",
    "\n",
    "from torchvision import datasets, transforms\n",
    "\n",
    "# Define a transform to normalize the data\n",
    "transform = transforms.Compose([transforms.ToTensor(),\n",
    "                               transforms.Normalize([0.5], [0.5])\n",
    "                               ])\n",
    "\n",
    "# Download and load the training data\n",
    "trainset = datasets.MNIST('MNIST_data/', download=True, train=True, transform=transform)\n",
    "trainloader = torch.utils.data.DataLoader(trainset, batch_size=64, shuffle=True)\n",
    "\n",
    "dataiter = iter(trainloader)\n",
    "images, labels = next(dataiter)\n",
    "print(type(images))\n",
    "print(images.shape)\n",
    "print(labels.shape)"
   ]
  },
  {
   "cell_type": "code",
   "execution_count": 10,
   "metadata": {},
   "outputs": [
    {
     "data": {
      "text/plain": [
       "<matplotlib.image.AxesImage at 0x7f073929d160>"
      ]
     },
     "execution_count": 10,
     "metadata": {},
     "output_type": "execute_result"
    },
    {
     "data": {
      "image/png": "[encoded data removed]",
      "text/plain": [
       "<Figure size 432x288 with 1 Axes>"
      ]
     },
     "metadata": {
      "image/png": {
       "height": 250,
       "width": 253
      }
     },
     "output_type": "display_data"
    }
   ],
   "source": [
    "plt.imshow(images[1].numpy().squeeze(), cmap='Greys_r')"
   ]
  },
  {
   "cell_type": "code",
   "execution_count": 13,
   "metadata": {},
   "outputs": [
    {
     "data": {
      "text/plain": [
       "array([[[[-1., -1., -1., ..., -1., -1., -1.],\n",
       "         [-1., -1., -1., ..., -1., -1., -1.],\n",
       "         [-1., -1., -1., ..., -1., -1., -1.],\n",
       "         ...,\n",
       "         [-1., -1., -1., ..., -1., -1., -1.],\n",
       "         [-1., -1., -1., ..., -1., -1., -1.],\n",
       "         [-1., -1., -1., ..., -1., -1., -1.]]],\n",
       "\n",
       "\n",
       "       [[[-1., -1., -1., ..., -1., -1., -1.],\n",
       "         [-1., -1., -1., ..., -1., -1., -1.],\n",
       "         [-1., -1., -1., ..., -1., -1., -1.],\n",
       "         ...,\n",
       "         [-1., -1., -1., ..., -1., -1., -1.],\n",
       "         [-1., -1., -1., ..., -1., -1., -1.],\n",
       "         [-1., -1., -1., ..., -1., -1., -1.]]],\n",
       "\n",
       "\n",
       "       [[[-1., -1., -1., ..., -1., -1., -1.],\n",
       "         [-1., -1., -1., ..., -1., -1., -1.],\n",
       "         [-1., -1., -1., ..., -1., -1., -1.],\n",
       "         ...,\n",
       "         [-1., -1., -1., ..., -1., -1., -1.],\n",
       "         [-1., -1., -1., ..., -1., -1., -1.],\n",
       "         [-1., -1., -1., ..., -1., -1., -1.]]],\n",
       "\n",
       "\n",
       "       ...,\n",
       "\n",
       "\n",
       "       [[[-1., -1., -1., ..., -1., -1., -1.],\n",
       "         [-1., -1., -1., ..., -1., -1., -1.],\n",
       "         [-1., -1., -1., ..., -1., -1., -1.],\n",
       "         ...,\n",
       "         [-1., -1., -1., ..., -1., -1., -1.],\n",
       "         [-1., -1., -1., ..., -1., -1., -1.],\n",
       "         [-1., -1., -1., ..., -1., -1., -1.]]],\n",
       "\n",
       "\n",
       "       [[[-1., -1., -1., ..., -1., -1., -1.],\n",
       "         [-1., -1., -1., ..., -1., -1., -1.],\n",
       "         [-1., -1., -1., ..., -1., -1., -1.],\n",
       "         ...,\n",
       "         [-1., -1., -1., ..., -1., -1., -1.],\n",
       "         [-1., -1., -1., ..., -1., -1., -1.],\n",
       "         [-1., -1., -1., ..., -1., -1., -1.]]],\n",
       "\n",
       "\n",
       "       [[[-1., -1., -1., ..., -1., -1., -1.],\n",
       "         [-1., -1., -1., ..., -1., -1., -1.],\n",
       "         [-1., -1., -1., ..., -1., -1., -1.],\n",
       "         ...,\n",
       "         [-1., -1., -1., ..., -1., -1., -1.],\n",
       "         [-1., -1., -1., ..., -1., -1., -1.],\n",
       "         [-1., -1., -1., ..., -1., -1., -1.]]]], dtype=float32)"
      ]
     },
     "execution_count": 13,
     "metadata": {},
     "output_type": "execute_result"
    }
   ],
   "source": [
    "images = images.numpy()\n",
    "images"
   ]
  },
  {
   "cell_type": "code",
   "execution_count": 16,
   "metadata": {},
   "outputs": [
    {
     "data": {
      "text/plain": [
       "tensor([[[[-1., -1., -1.,  ..., -1., -1., -1.],\n",
       "          [-1., -1., -1.,  ..., -1., -1., -1.],\n",
       "          [-1., -1., -1.,  ..., -1., -1., -1.],\n",
       "          ...,\n",
       "          [-1., -1., -1.,  ..., -1., -1., -1.],\n",
       "          [-1., -1., -1.,  ..., -1., -1., -1.],\n",
       "          [-1., -1., -1.,  ..., -1., -1., -1.]]],\n",
       "\n",
       "\n",
       "        [[[-1., -1., -1.,  ..., -1., -1., -1.],\n",
       "          [-1., -1., -1.,  ..., -1., -1., -1.],\n",
       "          [-1., -1., -1.,  ..., -1., -1., -1.],\n",
       "          ...,\n",
       "          [-1., -1., -1.,  ..., -1., -1., -1.],\n",
       "          [-1., -1., -1.,  ..., -1., -1., -1.],\n",
       "          [-1., -1., -1.,  ..., -1., -1., -1.]]],\n",
       "\n",
       "\n",
       "        [[[-1., -1., -1.,  ..., -1., -1., -1.],\n",
       "          [-1., -1., -1.,  ..., -1., -1., -1.],\n",
       "          [-1., -1., -1.,  ..., -1., -1., -1.],\n",
       "          ...,\n",
       "          [-1., -1., -1.,  ..., -1., -1., -1.],\n",
       "          [-1., -1., -1.,  ..., -1., -1., -1.],\n",
       "          [-1., -1., -1.,  ..., -1., -1., -1.]]],\n",
       "\n",
       "\n",
       "        ...,\n",
       "\n",
       "\n",
       "        [[[-1., -1., -1.,  ..., -1., -1., -1.],\n",
       "          [-1., -1., -1.,  ..., -1., -1., -1.],\n",
       "          [-1., -1., -1.,  ..., -1., -1., -1.],\n",
       "          ...,\n",
       "          [-1., -1., -1.,  ..., -1., -1., -1.],\n",
       "          [-1., -1., -1.,  ..., -1., -1., -1.],\n",
       "          [-1., -1., -1.,  ..., -1., -1., -1.]]],\n",
       "\n",
       "\n",
       "        [[[-1., -1., -1.,  ..., -1., -1., -1.],\n",
       "          [-1., -1., -1.,  ..., -1., -1., -1.],\n",
       "          [-1., -1., -1.,  ..., -1., -1., -1.],\n",
       "          ...,\n",
       "          [-1., -1., -1.,  ..., -1., -1., -1.],\n",
       "          [-1., -1., -1.,  ..., -1., -1., -1.],\n",
       "          [-1., -1., -1.,  ..., -1., -1., -1.]]],\n",
       "\n",
       "\n",
       "        [[[-1., -1., -1.,  ..., -1., -1., -1.],\n",
       "          [-1., -1., -1.,  ..., -1., -1., -1.],\n",
       "          [-1., -1., -1.,  ..., -1., -1., -1.],\n",
       "          ...,\n",
       "          [-1., -1., -1.,  ..., -1., -1., -1.],\n",
       "          [-1., -1., -1.,  ..., -1., -1., -1.],\n",
       "          [-1., -1., -1.,  ..., -1., -1., -1.]]]])"
      ]
     },
     "execution_count": 16,
     "metadata": {},
     "output_type": "execute_result"
    }
   ],
   "source": [
    "image_tensor = torch.from_numpy(images)\n",
    "image_tensor"
   ]
  },
  {
   "cell_type": "code",
   "execution_count": 18,
   "metadata": {},
   "outputs": [],
   "source": [
    "image_tensor = torch.rand(1, 784)\n",
    "n_input = image_tensor.shape[1]\n",
    "n_hidden = 256\n",
    "n_o"
   ]
  },
  {
   "cell_type": "code",
   "execution_count": null,
   "metadata": {},
   "outputs": [],
   "source": [
    "n_hidden = 256\n",
    "n_output = 10"
   ]
  }
 ],
 "metadata": {
  "kernelspec": {
   "display_name": "Python 3",
   "language": "python",
   "name": "python3"
  },
  "language_info": {
   "codemirror_mode": {
    "name": "ipython",
    "version": 3
   },
   "file_extension": ".py",
   "mimetype": "text/x-python",
   "name": "python",
   "nbconvert_exporter": "python",
   "pygments_lexer": "ipython3",
   "version": "3.6.8"
  }
 },
 "nbformat": 4,
 "nbformat_minor": 2
}
