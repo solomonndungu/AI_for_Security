{
 "cells": [
  {
   "cell_type": "code",
   "execution_count": null,
   "metadata": {},
   "outputs": [],
   "source": [
    "def encrypt(num_encrypt, num_shares_split):\n",
    "    \n",
    "    num_encrypt = 5\n",
    "    \n",
    "    \n",
    "    \n",
    "    return tuple_shares\n",
    "\n",
    "def decrypt(input):\n",
    "    \n",
    "    return decrypted_value\n",
    "\n",
    "def add(tuple1, tuple2):\n",
    "    \n",
    "    return single_tuple"
   ]
  }
 ],
 "metadata": {
  "kernelspec": {
   "display_name": "Python 3",
   "language": "python",
   "name": "python3"
  },
  "language_info": {
   "codemirror_mode": {
    "name": "ipython",
    "version": 3
   },
   "file_extension": ".py",
   "mimetype": "text/x-python",
   "name": "python",
   "nbconvert_exporter": "python",
   "pygments_lexer": "ipython3",
   "version": "3.6.7"
  }
 },
 "nbformat": 4,
 "nbformat_minor": 2
}
