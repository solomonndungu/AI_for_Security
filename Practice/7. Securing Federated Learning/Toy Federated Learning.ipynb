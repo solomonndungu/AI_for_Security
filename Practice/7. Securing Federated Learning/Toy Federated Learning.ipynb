{
 "cells": [
  {
   "cell_type": "code",
   "execution_count": 1,
   "metadata": {},
   "outputs": [],
   "source": [
    "import torch as th\n",
    "from torch import nn, optim\n",
    "import syft as sy"
   ]
  },
  {
   "cell_type": "code",
   "execution_count": null,
   "metadata": {},
   "outputs": [],
   "source": [
    "hook = sy.TorchHook(th)"
   ]
  },
  {
   "cell_type": "code",
   "execution_count": 9,
   "metadata": {},
   "outputs": [],
   "source": [
    "bob = sy.VirtualWorker(hook, id=\"bob\")\n",
    "alice = sy.VirtualWorker(hook, id=\"alice\")"
   ]
  },
  {
   "cell_type": "code",
   "execution_count": 3,
   "metadata": {},
   "outputs": [],
   "source": [
    "#A Toy Dataset\n",
    "data = th.tensor([[1.,1],[0,1],[1,0],[0,0]], requires_grad = True)\n",
    "target = th.tensor([[1.],[1], [0], [0]], requires_grad=True)"
   ]
  },
  {
   "cell_type": "code",
   "execution_count": 4,
   "metadata": {},
   "outputs": [],
   "source": [
    "#A Toy Model\n",
    "model = nn.Linear(2,1)"
   ]
  },
  {
   "cell_type": "code",
   "execution_count": 5,
   "metadata": {},
   "outputs": [],
   "source": [
    "opt = optim.SGD(params=model.parameters(), lr=0.1)"
   ]
  },
  {
   "cell_type": "code",
   "execution_count": 6,
   "metadata": {},
   "outputs": [
    {
     "name": "stdout",
     "output_type": "stream",
     "text": [
      "tensor(3.3852)\n",
      "tensor(0.6510)\n",
      "tensor(0.3045)\n",
      "tensor(0.1879)\n",
      "tensor(0.1209)\n",
      "tensor(0.0783)\n",
      "tensor(0.0509)\n",
      "tensor(0.0332)\n",
      "tensor(0.0217)\n",
      "tensor(0.0142)\n",
      "tensor(0.0094)\n",
      "tensor(0.0062)\n",
      "tensor(0.0041)\n",
      "tensor(0.0027)\n",
      "tensor(0.0018)\n",
      "tensor(0.0013)\n",
      "tensor(0.0009)\n",
      "tensor(0.0006)\n",
      "tensor(0.0004)\n",
      "tensor(0.0003)\n"
     ]
    }
   ],
   "source": [
    "def train(iterations=20):\n",
    "    for iter in range(iterations):\n",
    "        opt.zero_grad()\n",
    "        \n",
    "        pred = model(data)\n",
    "        \n",
    "        loss = ((pred - target)**2).sum()\n",
    "        \n",
    "        loss.backward()\n",
    "        \n",
    "        opt.step()\n",
    "        \n",
    "        print(loss.data)\n",
    "        \n",
    "        \n",
    "train()"
   ]
  },
  {
   "cell_type": "code",
   "execution_count": 7,
   "metadata": {},
   "outputs": [],
   "source": [
    "data_bob = data[0:2].send(bob)\n",
    "target_bob = target[0:2].send(bob)"
   ]
  },
  {
   "cell_type": "code",
   "execution_count": 10,
   "metadata": {},
   "outputs": [],
   "source": [
    "data_alice = data[0:2].send(alice)\n",
    "target_alice = target[0:2].send(alice)"
   ]
  },
  {
   "cell_type": "code",
   "execution_count": 11,
   "metadata": {},
   "outputs": [],
   "source": [
    "datasets = [(data_bob, target_bob), (data_alice, target_alice)]"
   ]
  },
  {
   "cell_type": "code",
   "execution_count": 12,
   "metadata": {},
   "outputs": [],
   "source": [
    "def train(iterations=20):\n",
    "    \n",
    "    model = nn.Linear(2,1)\n",
    "    opt = optim.SGD(params=model.parameters(), lr=0.1)\n",
    "\n",
    "    for iter in range(iterations):\n",
    "        for _data, _target in datasets:\n",
    "\n",
    "            #send model to the data\n",
    "            model = model.send(_data.location)\n",
    "\n",
    "            #Do normal training\n",
    "            opt.zero_grad()\n",
    "\n",
    "            pred = model(_data)\n",
    "\n",
    "            loss = ((pred - _target)**2).sum()\n",
    "\n",
    "            loss.backward()\n",
    "\n",
    "            opt.step()\n",
    "\n",
    "            #Get smarter model back\n",
    "            model = model.get()\n",
    "\n",
    "            print(loss.get())"
   ]
  },
  {
   "cell_type": "code",
   "execution_count": 13,
   "metadata": {},
   "outputs": [
    {
     "name": "stdout",
     "output_type": "stream",
     "text": [
      "tensor(2.5742, requires_grad=True)\n",
      "tensor(0.3015, requires_grad=True)\n",
      "tensor(0.2368, requires_grad=True)\n",
      "tensor(0.1970, requires_grad=True)\n",
      "tensor(0.1640, requires_grad=True)\n",
      "tensor(0.1365, requires_grad=True)\n",
      "tensor(0.1136, requires_grad=True)\n",
      "tensor(0.0945, requires_grad=True)\n",
      "tensor(0.0787, requires_grad=True)\n",
      "tensor(0.0655, requires_grad=True)\n",
      "tensor(0.0545, requires_grad=True)\n",
      "tensor(0.0454, requires_grad=True)\n",
      "tensor(0.0378, requires_grad=True)\n",
      "tensor(0.0314, requires_grad=True)\n",
      "tensor(0.0262, requires_grad=True)\n",
      "tensor(0.0218, requires_grad=True)\n",
      "tensor(0.0181, requires_grad=True)\n",
      "tensor(0.0151, requires_grad=True)\n",
      "tensor(0.0126, requires_grad=True)\n",
      "tensor(0.0104, requires_grad=True)\n",
      "tensor(0.0087, requires_grad=True)\n",
      "tensor(0.0072, requires_grad=True)\n",
      "tensor(0.0060, requires_grad=True)\n",
      "tensor(0.0050, requires_grad=True)\n",
      "tensor(0.0042, requires_grad=True)\n",
      "tensor(0.0035, requires_grad=True)\n",
      "tensor(0.0029, requires_grad=True)\n",
      "tensor(0.0024, requires_grad=True)\n",
      "tensor(0.0020, requires_grad=True)\n",
      "tensor(0.0017, requires_grad=True)\n",
      "tensor(0.0014, requires_grad=True)\n",
      "tensor(0.0012, requires_grad=True)\n",
      "tensor(0.0010, requires_grad=True)\n",
      "tensor(0.0008, requires_grad=True)\n",
      "tensor(0.0007, requires_grad=True)\n",
      "tensor(0.0006, requires_grad=True)\n",
      "tensor(0.0005, requires_grad=True)\n",
      "tensor(0.0004, requires_grad=True)\n",
      "tensor(0.0003, requires_grad=True)\n",
      "tensor(0.0003, requires_grad=True)\n"
     ]
    }
   ],
   "source": [
    "train()"
   ]
  },
  {
   "cell_type": "code",
   "execution_count": null,
   "metadata": {},
   "outputs": [],
   "source": []
  }
 ],
 "metadata": {
  "kernelspec": {
   "display_name": "Python 3",
   "language": "python",
   "name": "python3"
  },
  "language_info": {
   "codemirror_mode": {
    "name": "ipython",
    "version": 3
   },
   "file_extension": ".py",
   "mimetype": "text/x-python",
   "name": "python",
   "nbconvert_exporter": "python",
   "pygments_lexer": "ipython3",
   "version": "3.6.8"
  }
 },
 "nbformat": 4,
 "nbformat_minor": 2
}
