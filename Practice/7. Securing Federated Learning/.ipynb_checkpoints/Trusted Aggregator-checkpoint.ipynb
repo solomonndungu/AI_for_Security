{
 "cells": [
  {
   "cell_type": "code",
   "execution_count": 1,
   "metadata": {},
   "outputs": [],
   "source": [
    "import torch as th\n",
    "from torch import nn, optim\n",
    "import syft as sy"
   ]
  },
  {
   "cell_type": "code",
   "execution_count": 2,
   "metadata": {},
   "outputs": [],
   "source": [
    "hook = sy.TorchHook(th)"
   ]
  },
  {
   "cell_type": "code",
   "execution_count": 3,
   "metadata": {},
   "outputs": [],
   "source": [
    "bob = sy.VirtualWorker(hook, id=\"bob\")\n",
    "alice = sy.VirtualWorker(hook, id=\"alice\")\n",
    "jon = sy.VirtualWorker(hook, id=\"jon\")"
   ]
  },
  {
   "cell_type": "code",
   "execution_count": 4,
   "metadata": {},
   "outputs": [],
   "source": [
    "#A Toy Dataset\n",
    "data = th.tensor([[1.,1],[0,1],[1,0],[0,0]], requires_grad = True)\n",
    "target = th.tensor([[1.],[1], [0], [0]], requires_grad=True)"
   ]
  },
  {
   "cell_type": "code",
   "execution_count": 5,
   "metadata": {},
   "outputs": [],
   "source": [
    "data_bob = data[0:2].send(bob)\n",
    "target_bob = target[0:2].send(bob)"
   ]
  },
  {
   "cell_type": "code",
   "execution_count": 6,
   "metadata": {},
   "outputs": [],
   "source": [
    "data_alice = data[0:2].send(alice)\n",
    "target_alice = data[0:2].send(alice)"
   ]
  },
  {
   "cell_type": "code",
   "execution_count": 7,
   "metadata": {},
   "outputs": [],
   "source": [
    "datasets = [(data_bob, target_bob), (data_alice, target_alice)]"
   ]
  },
  {
   "cell_type": "code",
   "execution_count": 8,
   "metadata": {},
   "outputs": [],
   "source": [
    "def train(iterations=20):\n",
    "    \n",
    "    model = nn.Linear(2,1)\n",
    "    opt = optim.SGD(params=model.parameters(), lr=0.1)\n",
    "    \n",
    "    for iter in range(iterations):\n",
    "        for _data, _target in datasets:\n",
    "            \n",
    "            #send model to the data\n",
    "            model = model.send(_data.location)\n",
    "            \n",
    "            #Do normal training\n",
    "            opt.zero_grad()\n",
    "            \n",
    "            pred = model(_data)\n",
    "            \n",
    "            loss = ((pred - _target)**2).sum()\n",
    "            \n",
    "            loss.backward()\n",
    "            \n",
    "            opt.step()\n",
    "            \n",
    "            #Get smarter model back\n",
    "            model = model.get()\n",
    "            \n",
    "            print(loss.get())"
   ]
  },
  {
   "cell_type": "code",
   "execution_count": 9,
   "metadata": {},
   "outputs": [
    {
     "name": "stdout",
     "output_type": "stream",
     "text": [
      "tensor(10.2006, requires_grad=True)\n",
      "tensor(0.7412, requires_grad=True)\n",
      "tensor(0.1211, requires_grad=True)\n",
      "tensor(0.8294, requires_grad=True)\n",
      "tensor(0.3117, requires_grad=True)\n",
      "tensor(0.7673, requires_grad=True)\n",
      "tensor(0.3064, requires_grad=True)\n",
      "tensor(0.7407, requires_grad=True)\n",
      "tensor(0.3169, requires_grad=True)\n",
      "tensor(0.7217, requires_grad=True)\n",
      "tensor(0.3245, requires_grad=True)\n",
      "tensor(0.7088, requires_grad=True)\n",
      "tensor(0.3308, requires_grad=True)\n",
      "tensor(0.6997, requires_grad=True)\n",
      "tensor(0.3357, requires_grad=True)\n",
      "tensor(0.6933, requires_grad=True)\n",
      "tensor(0.3396, requires_grad=True)\n",
      "tensor(0.6887, requires_grad=True)\n",
      "tensor(0.3426, requires_grad=True)\n",
      "tensor(0.6854, requires_grad=True)\n",
      "tensor(0.3448, requires_grad=True)\n",
      "tensor(0.6830, requires_grad=True)\n",
      "tensor(0.3466, requires_grad=True)\n",
      "tensor(0.6812, requires_grad=True)\n",
      "tensor(0.3479, requires_grad=True)\n",
      "tensor(0.6799, requires_grad=True)\n",
      "tensor(0.3489, requires_grad=True)\n",
      "tensor(0.6789, requires_grad=True)\n",
      "tensor(0.3497, requires_grad=True)\n",
      "tensor(0.6782, requires_grad=True)\n",
      "tensor(0.3503, requires_grad=True)\n",
      "tensor(0.6776, requires_grad=True)\n",
      "tensor(0.3507, requires_grad=True)\n",
      "tensor(0.6772, requires_grad=True)\n",
      "tensor(0.3510, requires_grad=True)\n",
      "tensor(0.6769, requires_grad=True)\n",
      "tensor(0.3513, requires_grad=True)\n",
      "tensor(0.6767, requires_grad=True)\n",
      "tensor(0.3514, requires_grad=True)\n",
      "tensor(0.6765, requires_grad=True)\n"
     ]
    }
   ],
   "source": [
    "train()"
   ]
  },
  {
   "cell_type": "code",
   "execution_count": null,
   "metadata": {},
   "outputs": [],
   "source": []
  },
  {
   "cell_type": "code",
   "execution_count": null,
   "metadata": {},
   "outputs": [],
   "source": []
  }
 ],
 "metadata": {
  "kernelspec": {
   "display_name": "Python 3",
   "language": "python",
   "name": "python3"
  },
  "language_info": {
   "codemirror_mode": {
    "name": "ipython",
    "version": 3
   },
   "file_extension": ".py",
   "mimetype": "text/x-python",
   "name": "python",
   "nbconvert_exporter": "python",
   "pygments_lexer": "ipython3",
   "version": "3.6.7"
  }
 },
 "nbformat": 4,
 "nbformat_minor": 2
}
