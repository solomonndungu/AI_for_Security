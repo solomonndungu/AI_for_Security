{
 "cells": [
  {
   "cell_type": "code",
   "execution_count": 1,
   "metadata": {},
   "outputs": [],
   "source": [
    "import torch as th\n",
    "from torch import nn, optim\n",
    "import syft as sy"
   ]
  },
  {
   "cell_type": "code",
   "execution_count": 2,
   "metadata": {},
   "outputs": [],
   "source": [
    "hook = sy.TorchHook(th)"
   ]
  },
  {
   "cell_type": "code",
   "execution_count": 3,
   "metadata": {},
   "outputs": [],
   "source": [
    "bob = sy.VirtualWorker(hook, id=\"bob\")\n",
    "alice = sy.VirtualWorker(hook, id=\"alice\")\n",
    "jon = sy.VirtualWorker(hook, id=\"jon\")"
   ]
  },
  {
   "cell_type": "code",
   "execution_count": 4,
   "metadata": {},
   "outputs": [],
   "source": [
    "#A Toy Dataset\n",
    "data = th.tensor([[1.,1],[0,1],[1,0],[0,0]], requires_grad = True)\n",
    "target = th.tensor([[1.],[1], [0], [0]], requires_grad=True)"
   ]
  },
  {
   "cell_type": "code",
   "execution_count": 5,
   "metadata": {},
   "outputs": [],
   "source": [
    "data_bob = data[0:2].send(bob)\n",
    "target_bob = target[0:2].send(bob)"
   ]
  },
  {
   "cell_type": "code",
   "execution_count": 6,
   "metadata": {},
   "outputs": [],
   "source": [
    "data_alice = data[0:2].send(alice)\n",
    "target_alice = data[0:2].send(alice)"
   ]
  },
  {
   "cell_type": "code",
   "execution_count": 7,
   "metadata": {},
   "outputs": [],
   "source": [
    "datasets = [(data_bob, target_bob), (data_alice, target_alice)]"
   ]
  },
  {
   "cell_type": "code",
   "execution_count": 10,
   "metadata": {},
   "outputs": [],
   "source": [
    "def train(iterations=20):\n",
    "    \n",
    "    model = nn.Linear(2,1)\n",
    "    opt = optim.SGD(params=model.parameters(), lr=0.1)\n",
    "    \n",
    "    for iter in range(iterations):\n",
    "        for _data, _target in datasets:\n",
    "            \n",
    "            #send model to the data\n",
    "            model = model.send(_data.location)\n",
    "            \n",
    "            #Do normal training\n",
    "            opt.zero_grad()\n",
    "            \n",
    "            pred = model(_data)\n",
    "            \n",
    "            loss = ((pred - _target)**2).sum()\n",
    "            \n",
    "            loss.backward()\n",
    "            \n",
    "            opt.step()\n",
    "            \n",
    "            #Get smarter model back\n",
    "            model = model.get()\n",
    "            \n",
    "            print(loss.get())"
   ]
  },
  {
   "cell_type": "code",
   "execution_count": 11,
   "metadata": {},
   "outputs": [
    {
     "name": "stdout",
     "output_type": "stream",
     "text": [
      "tensor(0.4345, requires_grad=True)\n",
      "tensor(0.7948, requires_grad=True)\n",
      "tensor(0.2885, requires_grad=True)\n",
      "tensor(0.7662, requires_grad=True)\n",
      "tensor(0.3091, requires_grad=True)\n",
      "tensor(0.7384, requires_grad=True)\n",
      "tensor(0.3176, requires_grad=True)\n",
      "tensor(0.7202, requires_grad=True)\n",
      "tensor(0.3252, requires_grad=True)\n",
      "tensor(0.7077, requires_grad=True)\n",
      "tensor(0.3313, requires_grad=True)\n",
      "tensor(0.6990, requires_grad=True)\n",
      "tensor(0.3361, requires_grad=True)\n",
      "tensor(0.6928, requires_grad=True)\n",
      "tensor(0.3399, requires_grad=True)\n",
      "tensor(0.6884, requires_grad=True)\n",
      "tensor(0.3428, requires_grad=True)\n",
      "tensor(0.6851, requires_grad=True)\n",
      "tensor(0.3450, requires_grad=True)\n",
      "tensor(0.6828, requires_grad=True)\n",
      "tensor(0.3467, requires_grad=True)\n",
      "tensor(0.6811, requires_grad=True)\n",
      "tensor(0.3480, requires_grad=True)\n",
      "tensor(0.6798, requires_grad=True)\n",
      "tensor(0.3490, requires_grad=True)\n",
      "tensor(0.6788, requires_grad=True)\n",
      "tensor(0.3497, requires_grad=True)\n",
      "tensor(0.6781, requires_grad=True)\n",
      "tensor(0.3503, requires_grad=True)\n",
      "tensor(0.6776, requires_grad=True)\n",
      "tensor(0.3507, requires_grad=True)\n",
      "tensor(0.6772, requires_grad=True)\n",
      "tensor(0.3510, requires_grad=True)\n",
      "tensor(0.6769, requires_grad=True)\n",
      "tensor(0.3513, requires_grad=True)\n",
      "tensor(0.6767, requires_grad=True)\n",
      "tensor(0.3515, requires_grad=True)\n",
      "tensor(0.6765, requires_grad=True)\n",
      "tensor(0.3516, requires_grad=True)\n",
      "tensor(0.6764, requires_grad=True)\n"
     ]
    }
   ],
   "source": [
    "train()"
   ]
  },
  {
   "cell_type": "code",
   "execution_count": null,
   "metadata": {},
   "outputs": [],
   "source": []
  },
  {
   "cell_type": "code",
   "execution_count": null,
   "metadata": {},
   "outputs": [],
   "source": []
  }
 ],
 "metadata": {
  "kernelspec": {
   "display_name": "Python 3",
   "language": "python",
   "name": "python3"
  },
  "language_info": {
   "codemirror_mode": {
    "name": "ipython",
    "version": 3
   },
   "file_extension": ".py",
   "mimetype": "text/x-python",
   "name": "python",
   "nbconvert_exporter": "python",
   "pygments_lexer": "ipython3",
   "version": "3.6.7"
  }
 },
 "nbformat": 4,
 "nbformat_minor": 2
}
